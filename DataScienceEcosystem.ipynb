{
 "cells": [
  {
   "cell_type": "markdown",
   "id": "e3dcb5d0-0c4a-4737-914f-cd270d1cc3e3",
   "metadata": {
    "tags": []
   },
   "source": [
    "# Data Science Tools and Ecosystem"
   ]
  },
  {
   "cell_type": "markdown",
   "id": "458b2fdd-1871-45f3-9af7-57f3c3185886",
   "metadata": {},
   "source": [
    "In this notebook, Data Science Tools and Ecosystem are summarized."
   ]
  },
  {
   "cell_type": "markdown",
   "id": "7a12bcf7-2f96-497e-a2eb-d9fd5998b3a8",
   "metadata": {},
   "source": [
    "**Objectives:**\n",
    "\n",
    " - List popular languages for Data Science\n",
    " - Commonly used libraries for Data Science\n",
    " - Data Science tools"
   ]
  },
  {
   "cell_type": "markdown",
   "id": "67b29742-97e2-47ec-af4b-9b836b61ca67",
   "metadata": {},
   "source": [
    "Some of the popular languages that Data Scientists use are:\n",
    "\n",
    "    1. Python\n",
    "    2. R\n",
    "    3. Julia\n",
    "    4. SQL"
   ]
  },
  {
   "cell_type": "markdown",
   "id": "72bebb10-dbd1-43bd-b3ab-73d52adca99c",
   "metadata": {},
   "source": [
    "Some of the commonly used libraries used by Data Scientists include:\n",
    "    \n",
    "    1. Pandas\n",
    "    2. NumPy\n",
    "    3. Matplotlib\n",
    "    4. Seaborn\n",
    "    5. Scikit-learn\n",
    "    6. Keras\n",
    "    "
   ]
  },
  {
   "cell_type": "markdown",
   "id": "6ad5bfe0-4f94-46a1-ac2b-dd0fdc863338",
   "metadata": {},
   "source": [
    "|Data Science Tools|\n",
    "|------------------|\n",
    "|Jupyter|\n",
    "|RStudio|\n",
    "|VsCode|"
   ]
  },
  {
   "cell_type": "markdown",
   "id": "6ba2d5e2-6dc1-4b1a-9e62-c805064c4141",
   "metadata": {},
   "source": [
    "### Below are a few examples of evaluating arithmetic expressions in Python:"
   ]
  },
  {
   "cell_type": "code",
   "execution_count": 3,
   "id": "1d32d108-3cab-425e-aecc-ac37e7213c77",
   "metadata": {
    "tags": []
   },
   "outputs": [
    {
     "data": {
      "text/plain": [
       "17"
      ]
     },
     "execution_count": 3,
     "metadata": {},
     "output_type": "execute_result"
    }
   ],
   "source": [
    " # This a simple arithmetic expression to mutiply then add integers\n",
    "(3*4)+5"
   ]
  },
  {
   "cell_type": "code",
   "execution_count": 5,
   "id": "6958bb99-09f8-4d03-a737-9a0ff0425517",
   "metadata": {
    "tags": []
   },
   "outputs": [
    {
     "data": {
      "text/plain": [
       "3.3333333333333335"
      ]
     },
     "execution_count": 5,
     "metadata": {},
     "output_type": "execute_result"
    }
   ],
   "source": [
    " # This will convert 200 minutes to hours by diving by 60\n",
    "200/60"
   ]
  },
  {
   "cell_type": "markdown",
   "id": "721dee34-4a12-43d9-8072-404c3a42f187",
   "metadata": {},
   "source": [
    "## Author\n",
    "Syeda Shariqa Anjum"
   ]
  },
  {
   "cell_type": "code",
   "execution_count": null,
   "id": "795052a1-e191-40cc-9030-09cfe12458e4",
   "metadata": {},
   "outputs": [],
   "source": []
  }
 ],
 "metadata": {
  "kernelspec": {
   "display_name": "Python",
   "language": "python",
   "name": "conda-env-python-py"
  },
  "language_info": {
   "codemirror_mode": {
    "name": "ipython",
    "version": 3
   },
   "file_extension": ".py",
   "mimetype": "text/x-python",
   "name": "python",
   "nbconvert_exporter": "python",
   "pygments_lexer": "ipython3",
   "version": "3.7.12"
  }
 },
 "nbformat": 4,
 "nbformat_minor": 5
}
